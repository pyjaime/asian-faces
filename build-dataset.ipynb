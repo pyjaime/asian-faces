{
 "cells": [
  {
   "cell_type": "markdown",
   "metadata": {},
   "source": [
    "<h1>Build a dataset from Google Images<span class=\"tocSkip\"></span></h1>\n",
    "\n",
    "In this notebook we'll build a dataset with asian facial images from scratch, using Google. We'll manage to get korean, japanese and chinese faces for further classification."
   ]
  },
  {
   "cell_type": "markdown",
   "metadata": {},
   "source": [
    "# Imports"
   ]
  },
  {
   "cell_type": "code",
   "execution_count": null,
   "metadata": {},
   "outputs": [],
   "source": [
    "%%capture\n",
    "from notebook import notebookapp\n",
    "server = list(notebookapp.list_running_servers())[0]\n",
    "\n",
    "if server['hostname'] == 'localhost':\n",
    "  # Local environment\n",
    "  %reload_ext autoreload\n",
    "  %autoreload 2\n",
    "  %matplotlib inline\n",
    "else:\n",
    "  # Cloud\n",
    "  !pip install git+https://github.com/fastai/fastai.git\n",
    "  !curl https://course.fast.ai/setup/colab | bash"
   ]
  },
  {
   "cell_type": "code",
   "execution_count": null,
   "metadata": {},
   "outputs": [],
   "source": [
    "# from fastai.utils.show_install import *\n",
    "# show_install()"
   ]
  },
  {
   "cell_type": "code",
   "execution_count": null,
   "metadata": {},
   "outputs": [],
   "source": [
    "from fastai.vision import *"
   ]
  },
  {
   "cell_type": "markdown",
   "metadata": {},
   "source": [
    "# Folder structure"
   ]
  },
  {
   "cell_type": "markdown",
   "metadata": {},
   "source": [
    "We'll create this folder structure:\n",
    "```\n",
    "  data\n",
    "    |-faces\n",
    "        |-cn\n",
    "           |-m\n",
    "           |-w\n",
    "        |+jp\n",
    "        |+kr\n",
    "    |+urls\n",
    "```"
   ]
  },
  {
   "cell_type": "code",
   "execution_count": null,
   "metadata": {},
   "outputs": [],
   "source": [
    "nationalities = ['cn', 'jp', 'kr']\n",
    "genders = ['m', 'w']"
   ]
  },
  {
   "cell_type": "code",
   "execution_count": null,
   "metadata": {},
   "outputs": [],
   "source": [
    "img_path = Path('data/faces')\n",
    "url_path = Path('data/urls')\n",
    "\n",
    "for p in (img_path, url_path):\n",
    "    p.mkdir(parents=True, exist_ok=True)\n",
    "    for n in nationalities:\n",
    "        for g in genders:\n",
    "            folder = p/n/g\n",
    "            folder.mkdir(parents=True, exist_ok=True)"
   ]
  },
  {
   "cell_type": "markdown",
   "metadata": {},
   "source": [
    "# Image search"
   ]
  },
  {
   "cell_type": "markdown",
   "metadata": {},
   "source": [
    "1. We run a search in our browser like [this](https://www.google.com/search?cr=countryCN&as_st=y&biw=1351&bih=725&tbs=itp%3Aface%2Ciar%3As%2Cislt%3Aqsvga%2Cisz%3Aex%2Ciszw%3A200%2Ciszh%3A200%2Cctr%3AcountryCN&tbm=isch&sa=1&ei=BVoPXbeHCayXlwTSh4qQDQ&q=intitle%3Achen+site%3Acn.linkedin.com%2Fin+male+-female&oq=intitle%3Achen+site%3Acn.linkedin.com%2Fin+male+-female&gs_l=img.3...4235.6387..6677...0.0..1.130.964.10j2......0....1..gws-wiz-img.xWgLoyiPnks). In this particular case we are trying to get male pictures from LinkedIn China, using a chinese surname, with the 200x200 size indexed by google. We scroll down until image loading finishes.\n",
    "\n",
    "\n",
    "2. Then we open the browser console (`F12`) and write this javascript command:\n",
    "\n",
    "\n",
    "```\n",
    "urls = Array.from(document.querySelectorAll('.rg_di .rg_meta')).map(el=>JSON.parse(el.textContent).tu);\n",
    "window.open('data:text/csv;charset=utf-8,' + escape(urls.join('\\n')));\n",
    "```\n",
    "\n",
    "&emsp;&emsp;which gives us a file containing lines like this one:\n",
    "\n",
    "```\n",
    "https://encrypted-tbn0.gstatic.com/images?q=tbn:ANd9GcTIsU_k_6WKlX67lp1eyy8iy9IR9JtcC-ynIjgluBLYr6WKylklqg\n",
    "```\n",
    "\n",
    "&emsp;&emsp;We save the file in 'data/urls', under nationality and gender. For instance, for chinese men we'll use 'data/urls/cn/m'.\n",
    "\n",
    "&emsp;&emsp;NOTE: we can get the LinkedIn profile URLs if we replace `.tu` by `.ru`. Maybe `.ou`. But remember that scrapping is against LinkedIn's TOS.\n",
    " \n",
    "3. We repeat steps 1-2 for other surnames/names until we have enough samples for one class\n",
    "4. We repeat steps 1-3 for the other genre, and then for the rest of nationalities."
   ]
  },
  {
   "cell_type": "markdown",
   "metadata": {},
   "source": [
    "## Ran searches"
   ]
  },
  {
   "cell_type": "markdown",
   "metadata": {},
   "source": [
    "1. China: popular surnames\n",
    "2. Japan: popular names\n",
    "3. Korea: popular names"
   ]
  },
  {
   "cell_type": "markdown",
   "metadata": {},
   "source": [
    "# Download images "
   ]
  },
  {
   "cell_type": "markdown",
   "metadata": {},
   "source": [
    "In the last step we download all the images in the CSV files with their URL's:"
   ]
  },
  {
   "cell_type": "code",
   "execution_count": null,
   "metadata": {},
   "outputs": [],
   "source": [
    "for n in nationalities:\n",
    "    for g in genders:\n",
    "        # concatenate all URL files\n",
    "        ! rm data/urls/{n}/{g}/all.csv\n",
    "        ! cat data/urls/{n}/{g}/* > data/urls/{n}/{g}/all.csv\n",
    "        # download the images\n",
    "        download_images(url_path/n/g/'all.csv', img_path/n/g, max_pics=2000)"
   ]
  }
 ],
 "metadata": {
  "kernelspec": {
   "display_name": "Python 3",
   "language": "python",
   "name": "python3"
  },
  "language_info": {
   "codemirror_mode": {
    "name": "ipython",
    "version": 3
   },
   "file_extension": ".py",
   "mimetype": "text/x-python",
   "name": "python",
   "nbconvert_exporter": "python",
   "pygments_lexer": "ipython3",
   "version": "3.6.8"
  },
  "nbTranslate": {
   "displayLangs": [
    "en",
    "es"
   ],
   "hotkey": "alt-t",
   "langInMainMenu": false,
   "sourceLang": "es",
   "targetLang": "en",
   "useGoogleTranslate": true
  },
  "toc": {
   "base_numbering": 1,
   "nav_menu": {},
   "number_sections": true,
   "sideBar": true,
   "skip_h1_title": false,
   "title_cell": "Build a dataset from Google Images",
   "title_sidebar": "Contents",
   "toc_cell": false,
   "toc_position": {},
   "toc_section_display": true,
   "toc_window_display": true
  }
 },
 "nbformat": 4,
 "nbformat_minor": 2
}
